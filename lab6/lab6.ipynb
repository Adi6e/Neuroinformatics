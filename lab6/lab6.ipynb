{
 "cells": [
  {
   "cell_type": "markdown",
   "id": "09d4cb1e",
   "metadata": {},
   "source": [
    "## Лабораторная работа №6 по курсу \"Нейроинформатика\" на тему \"Сети Кохонена\"\n",
    "\n",
    "*Целью работы* является исследование свойств слоя Кохонена, карты Кохонена, а также применение сетей в задачах кластеризации и классификации.\n",
    "\n",
    "**Задание:**  Использовать слой Кохонена для выполнения кластеризации множества точек. Проверить качество разбиения.\n",
    "\n",
    "### Вариант 10\n",
    "Выполнил студент Шавандрин Фёдор  \n",
    "Группа М8О-408Б-19"
   ]
  },
  {
   "cell_type": "code",
   "execution_count": 1,
   "id": "f13c6fca",
   "metadata": {},
   "outputs": [],
   "source": [
    "# импортируем библиотеки\n",
    "import numpy as np\n",
    "import matplotlib.pyplot as plt\n",
    "from tqdm import tqdm"
   ]
  },
  {
   "cell_type": "markdown",
   "id": "97c53527",
   "metadata": {},
   "source": [
    "Обучающее множество согласно варианту."
   ]
  },
  {
   "cell_type": "code",
   "execution_count": 2,
   "id": "0783a4b6",
   "metadata": {},
   "outputs": [],
   "source": [
    "points = [\n",
    "        [0, 0.7],\n",
    "        [0.3, -1.3],\n",
    "        [1.3, 0.8],\n",
    "        [1.2, 0.1],\n",
    "        [1.2, 0.9],\n",
    "        [0.5, -0.7],\n",
    "        [0.7, -1.5],\n",
    "        [1.4, 0.5],\n",
    "        [0.3, 0],\n",
    "        [0.6, 0.6],\n",
    "        [0.8, -0.7],\n",
    "        [0.5, 0.1]\n",
    "]"
   ]
  },
  {
   "cell_type": "markdown",
   "id": "5cdd745b",
   "metadata": {},
   "source": [
    "### Реализация карты Кохонена для кластеризации точек"
   ]
  },
  {
   "cell_type": "code",
   "execution_count": 3,
   "id": "02f33b79",
   "metadata": {},
   "outputs": [],
   "source": [
    "class kohonen_map():\n",
    "    def __init__(self, input_features, w, h):\n",
    "        # инициализация размера карты и входных фичей\n",
    "        self.input_features = input_features\n",
    "        self.w = w\n",
    "        self.h = h\n",
    "        self.nodes = np.random.randn(w * h, input_features)\n",
    "        self.indexes = np.array([[x, y] for x in range(0, h) for y in range(0, w)])\n",
    "    \n",
    "    # функция для обновления узлов\n",
    "    def update(self, input, r, lr):\n",
    "        dists_to_input = np.linalg.norm(self.nodes - input, axis=1)\n",
    "        best_match_id = np.argmin(dists_to_input)\n",
    "\n",
    "        rest_dists_to_bmu = np.linalg.norm(self.indexes - self.indexes[best_match_id], axis=1)\n",
    "\n",
    "        # обновляем узлы, расстояние до которых меньше заданного радиуса\n",
    "        for node, distance in zip(self.nodes, rest_dists_to_bmu):\n",
    "            if distance < r:\n",
    "                influence = np.exp(-distance / (2 * r))\n",
    "                node += lr * influence * (input - node)\n",
    "                \n",
    "    # функция обучения карты Кохонена\n",
    "    def train(self, data, epochs, start_lr=1):\n",
    "        init_r = max(self.w, self.h) // 2\n",
    "        radius_decrease_koeff = epochs / np.log(init_r) # коэффициент снижения радиуса после каждой эпохи\n",
    "        for epoch in tqdm(range(epochs)):\n",
    "            np.random.shuffle(data)\n",
    "            r = init_r * np.exp(-epoch / radius_decrease_koeff)\n",
    "            lr = start_lr * np.exp(-epoch / epochs)\n",
    "            for elem in data:\n",
    "                self.update(elem, r, lr)"
   ]
  },
  {
   "cell_type": "markdown",
   "id": "822dc141",
   "metadata": {},
   "source": [
    "### Обучение карты Кохонена\n",
    "\n",
    "Размер карты - 50x50"
   ]
  },
  {
   "cell_type": "code",
   "execution_count": 4,
   "id": "d321d98c",
   "metadata": {},
   "outputs": [],
   "source": [
    "model = kohonen_map(input_features=2, w=50, h=50)"
   ]
  },
  {
   "cell_type": "markdown",
   "id": "36a2f520",
   "metadata": {},
   "source": [
    "Посмотрим, как выглядят точки до кластеризации"
   ]
  },
  {
   "cell_type": "code",
   "execution_count": 10,
   "id": "7bcfae15",
   "metadata": {},
   "outputs": [],
   "source": [
    "# нормируем узлы, чтобы матплотлиб успешно отработал\n",
    "nodes = model.nodes\n",
    "nodes_min = np.min(nodes, axis=0)\n",
    "nodes_max = np.max(nodes, axis=0)\n",
    "nodes_scaled = ((nodes - nodes_min) / (nodes_max - nodes_min)).reshape((model.h, model.w, model.input_features))"
   ]
  },
  {
   "cell_type": "code",
   "execution_count": 6,
   "id": "90817cc0",
   "metadata": {},
   "outputs": [
    {
     "data": {
      "image/png": "[encoded data removed]",
      "text/plain": [
       "<Figure size 1080x576 with 1 Axes>"
      ]
     },
     "metadata": {
      "needs_background": "light"
     },
     "output_type": "display_data"
    }
   ],
   "source": [
    "plt.figure(figsize=(15, 8))\n",
    "plt.imshow(np.insert(nodes_scaled, 2, 0.5, axis = 2))\n",
    "plt.show()"
   ]
  },
  {
   "cell_type": "code",
   "execution_count": 7,
   "id": "c1d15c45",
   "metadata": {},
   "outputs": [
    {
     "name": "stderr",
     "output_type": "stream",
     "text": [
      "100%|████████████████████████████████████████████████████████████████████████████████| 150/150 [00:08<00:00, 18.18it/s]\n"
     ]
    }
   ],
   "source": [
    "model.train(data=points, epochs=150, start_lr=1)"
   ]
  },
  {
   "cell_type": "markdown",
   "id": "42384f28",
   "metadata": {},
   "source": [
    "И после кластеризации"
   ]
  },
  {
   "cell_type": "code",
   "execution_count": 8,
   "id": "dae97baa",
   "metadata": {},
   "outputs": [],
   "source": [
    "nodes = model.nodes\n",
    "nodes_min = np.min(nodes, axis=0)\n",
    "nodes_max = np.max(nodes, axis=0)\n",
    "nodes_scaled = ((nodes - nodes_min) / (nodes_max - nodes_min)).reshape((model.h, model.w, model.input_features))"
   ]
  },
  {
   "cell_type": "code",
   "execution_count": 9,
   "id": "c4aeac8a",
   "metadata": {},
   "outputs": [
    {
     "data": {
      "image/png": "[encoded data removed]",
      "text/plain": [
       "<Figure size 1080x576 with 1 Axes>"
      ]
     },
     "metadata": {
      "needs_background": "light"
     },
     "output_type": "display_data"
    }
   ],
   "source": [
    "plt.figure(figsize=(15, 8))\n",
    "plt.imshow(np.insert(nodes_scaled, 2, 0.5, axis = 2))\n",
    "plt.show()"
   ]
  },
  {
   "cell_type": "markdown",
   "id": "57658aeb",
   "metadata": {},
   "source": [
    "Видим, что карта Кохонена достаточно успешно решила задачу кластеризации."
   ]
  },
  {
   "cell_type": "markdown",
   "id": "20f9a9df",
   "metadata": {},
   "source": [
    "### Выводы\n",
    "\n",
    "В ходе данной лабораторной работы изучил и реализовал самоорганизующуюся карту Кохонена для решения задачи кластеризации точек согласно варианту. Результат кластеризации получился достаточно хороший, можно четко наблюдать границы кластеров."
   ]
  }
 ],
 "metadata": {
  "kernelspec": {
   "display_name": "Python 3 (ipykernel)",
   "language": "python",
   "name": "python3"
  },
  "language_info": {
   "codemirror_mode": {
    "name": "ipython",
    "version": 3
   },
   "file_extension": ".py",
   "mimetype": "text/x-python",
   "name": "python",
   "nbconvert_exporter": "python",
   "pygments_lexer": "ipython3",
   "version": "3.9.8"
  }
 },
 "nbformat": 4,
 "nbformat_minor": 5
}
